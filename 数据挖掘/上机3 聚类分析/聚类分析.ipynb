{
 "cells": [
  {
   "cell_type": "markdown",
   "metadata": {},
   "source": [
    "# 数据预处理"
   ]
  },
  {
   "cell_type": "code",
   "execution_count": 52,
   "metadata": {},
   "outputs": [],
   "source": [
    "import numpy as np\n",
    "import pandas as pd"
   ]
  },
  {
   "cell_type": "code",
   "execution_count": 53,
   "metadata": {},
   "outputs": [],
   "source": [
    "path = \"./hcvdat.csv\""
   ]
  },
  {
   "cell_type": "code",
   "execution_count": 54,
   "metadata": {},
   "outputs": [
    {
     "data": {
      "text/html": [
       "<div>\n",
       "<style scoped>\n",
       "    .dataframe tbody tr th:only-of-type {\n",
       "        vertical-align: middle;\n",
       "    }\n",
       "\n",
       "    .dataframe tbody tr th {\n",
       "        vertical-align: top;\n",
       "    }\n",
       "\n",
       "    .dataframe thead th {\n",
       "        text-align: right;\n",
       "    }\n",
       "</style>\n",
       "<table border=\"1\" class=\"dataframe\">\n",
       "  <thead>\n",
       "    <tr style=\"text-align: right;\">\n",
       "      <th></th>\n",
       "      <th>Unnamed: 0</th>\n",
       "      <th>Category</th>\n",
       "      <th>Age</th>\n",
       "      <th>Sex</th>\n",
       "      <th>ALB</th>\n",
       "      <th>ALP</th>\n",
       "      <th>ALT</th>\n",
       "      <th>AST</th>\n",
       "      <th>BIL</th>\n",
       "      <th>CHE</th>\n",
       "      <th>CHOL</th>\n",
       "      <th>CREA</th>\n",
       "      <th>GGT</th>\n",
       "      <th>PROT</th>\n",
       "    </tr>\n",
       "  </thead>\n",
       "  <tbody>\n",
       "    <tr>\n",
       "      <th>0</th>\n",
       "      <td>1</td>\n",
       "      <td>0=Blood Donor</td>\n",
       "      <td>32</td>\n",
       "      <td>m</td>\n",
       "      <td>38.5</td>\n",
       "      <td>52.5</td>\n",
       "      <td>7.7</td>\n",
       "      <td>22.1</td>\n",
       "      <td>7.5</td>\n",
       "      <td>6.93</td>\n",
       "      <td>3.23</td>\n",
       "      <td>106.0</td>\n",
       "      <td>12.1</td>\n",
       "      <td>69.0</td>\n",
       "    </tr>\n",
       "    <tr>\n",
       "      <th>1</th>\n",
       "      <td>2</td>\n",
       "      <td>0=Blood Donor</td>\n",
       "      <td>32</td>\n",
       "      <td>m</td>\n",
       "      <td>38.5</td>\n",
       "      <td>70.3</td>\n",
       "      <td>18.0</td>\n",
       "      <td>24.7</td>\n",
       "      <td>3.9</td>\n",
       "      <td>11.17</td>\n",
       "      <td>4.80</td>\n",
       "      <td>74.0</td>\n",
       "      <td>15.6</td>\n",
       "      <td>76.5</td>\n",
       "    </tr>\n",
       "    <tr>\n",
       "      <th>2</th>\n",
       "      <td>3</td>\n",
       "      <td>0=Blood Donor</td>\n",
       "      <td>32</td>\n",
       "      <td>m</td>\n",
       "      <td>46.9</td>\n",
       "      <td>74.7</td>\n",
       "      <td>36.2</td>\n",
       "      <td>52.6</td>\n",
       "      <td>6.1</td>\n",
       "      <td>8.84</td>\n",
       "      <td>5.20</td>\n",
       "      <td>86.0</td>\n",
       "      <td>33.2</td>\n",
       "      <td>79.3</td>\n",
       "    </tr>\n",
       "    <tr>\n",
       "      <th>3</th>\n",
       "      <td>4</td>\n",
       "      <td>0=Blood Donor</td>\n",
       "      <td>32</td>\n",
       "      <td>m</td>\n",
       "      <td>43.2</td>\n",
       "      <td>52.0</td>\n",
       "      <td>30.6</td>\n",
       "      <td>22.6</td>\n",
       "      <td>18.9</td>\n",
       "      <td>7.33</td>\n",
       "      <td>4.74</td>\n",
       "      <td>80.0</td>\n",
       "      <td>33.8</td>\n",
       "      <td>75.7</td>\n",
       "    </tr>\n",
       "    <tr>\n",
       "      <th>4</th>\n",
       "      <td>5</td>\n",
       "      <td>0=Blood Donor</td>\n",
       "      <td>32</td>\n",
       "      <td>m</td>\n",
       "      <td>39.2</td>\n",
       "      <td>74.1</td>\n",
       "      <td>32.6</td>\n",
       "      <td>24.8</td>\n",
       "      <td>9.6</td>\n",
       "      <td>9.15</td>\n",
       "      <td>4.32</td>\n",
       "      <td>76.0</td>\n",
       "      <td>29.9</td>\n",
       "      <td>68.7</td>\n",
       "    </tr>\n",
       "  </tbody>\n",
       "</table>\n",
       "</div>"
      ],
      "text/plain": [
       "   Unnamed: 0       Category  Age Sex   ALB   ALP   ALT   AST   BIL    CHE  \\\n",
       "0           1  0=Blood Donor   32   m  38.5  52.5   7.7  22.1   7.5   6.93   \n",
       "1           2  0=Blood Donor   32   m  38.5  70.3  18.0  24.7   3.9  11.17   \n",
       "2           3  0=Blood Donor   32   m  46.9  74.7  36.2  52.6   6.1   8.84   \n",
       "3           4  0=Blood Donor   32   m  43.2  52.0  30.6  22.6  18.9   7.33   \n",
       "4           5  0=Blood Donor   32   m  39.2  74.1  32.6  24.8   9.6   9.15   \n",
       "\n",
       "   CHOL   CREA   GGT  PROT  \n",
       "0  3.23  106.0  12.1  69.0  \n",
       "1  4.80   74.0  15.6  76.5  \n",
       "2  5.20   86.0  33.2  79.3  \n",
       "3  4.74   80.0  33.8  75.7  \n",
       "4  4.32   76.0  29.9  68.7  "
      ]
     },
     "execution_count": 54,
     "metadata": {},
     "output_type": "execute_result"
    }
   ],
   "source": [
    "data = pd.read_csv(path)\n",
    "data.head()"
   ]
  },
  {
   "cell_type": "markdown",
   "metadata": {},
   "source": [
    "### 缺失值均值填充"
   ]
  },
  {
   "cell_type": "code",
   "execution_count": 55,
   "metadata": {},
   "outputs": [
    {
     "data": {
      "text/plain": [
       "Unnamed: 0     0\n",
       "Category       0\n",
       "Age            0\n",
       "Sex            0\n",
       "ALB            1\n",
       "ALP           18\n",
       "ALT            1\n",
       "AST            0\n",
       "BIL            0\n",
       "CHE            0\n",
       "CHOL          10\n",
       "CREA           0\n",
       "GGT            0\n",
       "PROT           1\n",
       "dtype: int64"
      ]
     },
     "execution_count": 55,
     "metadata": {},
     "output_type": "execute_result"
    }
   ],
   "source": [
    "data.isnull().sum()"
   ]
  },
  {
   "cell_type": "code",
   "execution_count": 56,
   "metadata": {},
   "outputs": [],
   "source": [
    "data['ALB'] = data['ALB'].fillna(data['ALB'].mean())\n",
    "data['ALP'] = data['ALP'].fillna(data['ALP'].mean())\n",
    "data['ALT'] = data['ALT'].fillna(data['ALT'].mean())\n",
    "data['CHOL'] = data['CHOL'].fillna(data['CHOL'].mean())\n",
    "data['PROT'] = data['PROT'].fillna(data['PROT'].mean())"
   ]
  },
  {
   "cell_type": "code",
   "execution_count": 57,
   "metadata": {},
   "outputs": [
    {
     "data": {
      "text/plain": [
       "Unnamed: 0    0\n",
       "Category      0\n",
       "Age           0\n",
       "Sex           0\n",
       "ALB           0\n",
       "ALP           0\n",
       "ALT           0\n",
       "AST           0\n",
       "BIL           0\n",
       "CHE           0\n",
       "CHOL          0\n",
       "CREA          0\n",
       "GGT           0\n",
       "PROT          0\n",
       "dtype: int64"
      ]
     },
     "execution_count": 57,
     "metadata": {},
     "output_type": "execute_result"
    }
   ],
   "source": [
    "# 确保无缺失值\n",
    "data.isnull().sum()"
   ]
  },
  {
   "cell_type": "markdown",
   "metadata": {},
   "source": [
    "### 字符型数值化"
   ]
  },
  {
   "cell_type": "code",
   "execution_count": 58,
   "metadata": {},
   "outputs": [
    {
     "data": {
      "text/plain": [
       "(['0=Blood Donor',\n",
       "  '0s=suspect Blood Donor',\n",
       "  '1=Hepatitis',\n",
       "  '2=Fibrosis',\n",
       "  '3=Cirrhosis'],\n",
       " ['m', 'f'])"
      ]
     },
     "execution_count": 58,
     "metadata": {},
     "output_type": "execute_result"
    }
   ],
   "source": [
    "# 确定Category和Sex列取值情况\n",
    "cat_total = list(data['Category'].unique())\n",
    "sex_total = list(data['Sex'].unique())\n",
    "cat_total, sex_total"
   ]
  },
  {
   "cell_type": "code",
   "execution_count": 59,
   "metadata": {},
   "outputs": [
    {
     "data": {
      "text/plain": [
       "(array([0, 1, 2, 3, 4], dtype=int64), array([0, 1], dtype=int64))"
      ]
     },
     "execution_count": 59,
     "metadata": {},
     "output_type": "execute_result"
    }
   ],
   "source": [
    "# 数值化\n",
    "data['Category'] = data['Category'].replace(cat_total, range(len(cat_total)))\n",
    "data['Sex'] = data['Sex'].replace(sex_total, range(len(sex_total)))\n",
    "data['Category'].unique(), data['Sex'].unique()"
   ]
  },
  {
   "cell_type": "code",
   "execution_count": 60,
   "metadata": {},
   "outputs": [
    {
     "data": {
      "text/html": [
       "<div>\n",
       "<style scoped>\n",
       "    .dataframe tbody tr th:only-of-type {\n",
       "        vertical-align: middle;\n",
       "    }\n",
       "\n",
       "    .dataframe tbody tr th {\n",
       "        vertical-align: top;\n",
       "    }\n",
       "\n",
       "    .dataframe thead th {\n",
       "        text-align: right;\n",
       "    }\n",
       "</style>\n",
       "<table border=\"1\" class=\"dataframe\">\n",
       "  <thead>\n",
       "    <tr style=\"text-align: right;\">\n",
       "      <th></th>\n",
       "      <th>Unnamed: 0</th>\n",
       "      <th>Category</th>\n",
       "      <th>Age</th>\n",
       "      <th>Sex</th>\n",
       "      <th>ALB</th>\n",
       "      <th>ALP</th>\n",
       "      <th>ALT</th>\n",
       "      <th>AST</th>\n",
       "      <th>BIL</th>\n",
       "      <th>CHE</th>\n",
       "      <th>CHOL</th>\n",
       "      <th>CREA</th>\n",
       "      <th>GGT</th>\n",
       "      <th>PROT</th>\n",
       "    </tr>\n",
       "  </thead>\n",
       "  <tbody>\n",
       "    <tr>\n",
       "      <th>0</th>\n",
       "      <td>1</td>\n",
       "      <td>0</td>\n",
       "      <td>32</td>\n",
       "      <td>0</td>\n",
       "      <td>38.5</td>\n",
       "      <td>52.5</td>\n",
       "      <td>7.7</td>\n",
       "      <td>22.1</td>\n",
       "      <td>7.5</td>\n",
       "      <td>6.93</td>\n",
       "      <td>3.23</td>\n",
       "      <td>106.0</td>\n",
       "      <td>12.1</td>\n",
       "      <td>69.0</td>\n",
       "    </tr>\n",
       "    <tr>\n",
       "      <th>1</th>\n",
       "      <td>2</td>\n",
       "      <td>0</td>\n",
       "      <td>32</td>\n",
       "      <td>0</td>\n",
       "      <td>38.5</td>\n",
       "      <td>70.3</td>\n",
       "      <td>18.0</td>\n",
       "      <td>24.7</td>\n",
       "      <td>3.9</td>\n",
       "      <td>11.17</td>\n",
       "      <td>4.80</td>\n",
       "      <td>74.0</td>\n",
       "      <td>15.6</td>\n",
       "      <td>76.5</td>\n",
       "    </tr>\n",
       "    <tr>\n",
       "      <th>2</th>\n",
       "      <td>3</td>\n",
       "      <td>0</td>\n",
       "      <td>32</td>\n",
       "      <td>0</td>\n",
       "      <td>46.9</td>\n",
       "      <td>74.7</td>\n",
       "      <td>36.2</td>\n",
       "      <td>52.6</td>\n",
       "      <td>6.1</td>\n",
       "      <td>8.84</td>\n",
       "      <td>5.20</td>\n",
       "      <td>86.0</td>\n",
       "      <td>33.2</td>\n",
       "      <td>79.3</td>\n",
       "    </tr>\n",
       "    <tr>\n",
       "      <th>3</th>\n",
       "      <td>4</td>\n",
       "      <td>0</td>\n",
       "      <td>32</td>\n",
       "      <td>0</td>\n",
       "      <td>43.2</td>\n",
       "      <td>52.0</td>\n",
       "      <td>30.6</td>\n",
       "      <td>22.6</td>\n",
       "      <td>18.9</td>\n",
       "      <td>7.33</td>\n",
       "      <td>4.74</td>\n",
       "      <td>80.0</td>\n",
       "      <td>33.8</td>\n",
       "      <td>75.7</td>\n",
       "    </tr>\n",
       "    <tr>\n",
       "      <th>4</th>\n",
       "      <td>5</td>\n",
       "      <td>0</td>\n",
       "      <td>32</td>\n",
       "      <td>0</td>\n",
       "      <td>39.2</td>\n",
       "      <td>74.1</td>\n",
       "      <td>32.6</td>\n",
       "      <td>24.8</td>\n",
       "      <td>9.6</td>\n",
       "      <td>9.15</td>\n",
       "      <td>4.32</td>\n",
       "      <td>76.0</td>\n",
       "      <td>29.9</td>\n",
       "      <td>68.7</td>\n",
       "    </tr>\n",
       "  </tbody>\n",
       "</table>\n",
       "</div>"
      ],
      "text/plain": [
       "   Unnamed: 0  Category  Age  Sex   ALB   ALP   ALT   AST   BIL    CHE  CHOL  \\\n",
       "0           1         0   32    0  38.5  52.5   7.7  22.1   7.5   6.93  3.23   \n",
       "1           2         0   32    0  38.5  70.3  18.0  24.7   3.9  11.17  4.80   \n",
       "2           3         0   32    0  46.9  74.7  36.2  52.6   6.1   8.84  5.20   \n",
       "3           4         0   32    0  43.2  52.0  30.6  22.6  18.9   7.33  4.74   \n",
       "4           5         0   32    0  39.2  74.1  32.6  24.8   9.6   9.15  4.32   \n",
       "\n",
       "    CREA   GGT  PROT  \n",
       "0  106.0  12.1  69.0  \n",
       "1   74.0  15.6  76.5  \n",
       "2   86.0  33.2  79.3  \n",
       "3   80.0  33.8  75.7  \n",
       "4   76.0  29.9  68.7  "
      ]
     },
     "execution_count": 60,
     "metadata": {},
     "output_type": "execute_result"
    }
   ],
   "source": [
    "data.head()"
   ]
  },
  {
   "cell_type": "markdown",
   "metadata": {},
   "source": [
    "### 划分标签"
   ]
  },
  {
   "cell_type": "code",
   "execution_count": 61,
   "metadata": {},
   "outputs": [
    {
     "data": {
      "text/plain": [
       "(615,)"
      ]
     },
     "execution_count": 61,
     "metadata": {},
     "output_type": "execute_result"
    }
   ],
   "source": [
    "# 得到标签\n",
    "y = data['Category'].values\n",
    "y.shape"
   ]
  },
  {
   "cell_type": "markdown",
   "metadata": {},
   "source": [
    "### 划分特征"
   ]
  },
  {
   "cell_type": "code",
   "execution_count": 62,
   "metadata": {},
   "outputs": [
    {
     "data": {
      "text/html": [
       "<div>\n",
       "<style scoped>\n",
       "    .dataframe tbody tr th:only-of-type {\n",
       "        vertical-align: middle;\n",
       "    }\n",
       "\n",
       "    .dataframe tbody tr th {\n",
       "        vertical-align: top;\n",
       "    }\n",
       "\n",
       "    .dataframe thead th {\n",
       "        text-align: right;\n",
       "    }\n",
       "</style>\n",
       "<table border=\"1\" class=\"dataframe\">\n",
       "  <thead>\n",
       "    <tr style=\"text-align: right;\">\n",
       "      <th></th>\n",
       "      <th>Age</th>\n",
       "      <th>Sex</th>\n",
       "      <th>ALB</th>\n",
       "      <th>ALP</th>\n",
       "      <th>ALT</th>\n",
       "      <th>AST</th>\n",
       "      <th>BIL</th>\n",
       "      <th>CHE</th>\n",
       "      <th>CHOL</th>\n",
       "      <th>CREA</th>\n",
       "      <th>GGT</th>\n",
       "      <th>PROT</th>\n",
       "    </tr>\n",
       "  </thead>\n",
       "  <tbody>\n",
       "    <tr>\n",
       "      <th>0</th>\n",
       "      <td>32</td>\n",
       "      <td>0</td>\n",
       "      <td>38.5</td>\n",
       "      <td>52.5</td>\n",
       "      <td>7.7</td>\n",
       "      <td>22.1</td>\n",
       "      <td>7.5</td>\n",
       "      <td>6.93</td>\n",
       "      <td>3.23</td>\n",
       "      <td>106.0</td>\n",
       "      <td>12.1</td>\n",
       "      <td>69.0</td>\n",
       "    </tr>\n",
       "    <tr>\n",
       "      <th>1</th>\n",
       "      <td>32</td>\n",
       "      <td>0</td>\n",
       "      <td>38.5</td>\n",
       "      <td>70.3</td>\n",
       "      <td>18.0</td>\n",
       "      <td>24.7</td>\n",
       "      <td>3.9</td>\n",
       "      <td>11.17</td>\n",
       "      <td>4.80</td>\n",
       "      <td>74.0</td>\n",
       "      <td>15.6</td>\n",
       "      <td>76.5</td>\n",
       "    </tr>\n",
       "    <tr>\n",
       "      <th>2</th>\n",
       "      <td>32</td>\n",
       "      <td>0</td>\n",
       "      <td>46.9</td>\n",
       "      <td>74.7</td>\n",
       "      <td>36.2</td>\n",
       "      <td>52.6</td>\n",
       "      <td>6.1</td>\n",
       "      <td>8.84</td>\n",
       "      <td>5.20</td>\n",
       "      <td>86.0</td>\n",
       "      <td>33.2</td>\n",
       "      <td>79.3</td>\n",
       "    </tr>\n",
       "    <tr>\n",
       "      <th>3</th>\n",
       "      <td>32</td>\n",
       "      <td>0</td>\n",
       "      <td>43.2</td>\n",
       "      <td>52.0</td>\n",
       "      <td>30.6</td>\n",
       "      <td>22.6</td>\n",
       "      <td>18.9</td>\n",
       "      <td>7.33</td>\n",
       "      <td>4.74</td>\n",
       "      <td>80.0</td>\n",
       "      <td>33.8</td>\n",
       "      <td>75.7</td>\n",
       "    </tr>\n",
       "    <tr>\n",
       "      <th>4</th>\n",
       "      <td>32</td>\n",
       "      <td>0</td>\n",
       "      <td>39.2</td>\n",
       "      <td>74.1</td>\n",
       "      <td>32.6</td>\n",
       "      <td>24.8</td>\n",
       "      <td>9.6</td>\n",
       "      <td>9.15</td>\n",
       "      <td>4.32</td>\n",
       "      <td>76.0</td>\n",
       "      <td>29.9</td>\n",
       "      <td>68.7</td>\n",
       "    </tr>\n",
       "  </tbody>\n",
       "</table>\n",
       "</div>"
      ],
      "text/plain": [
       "   Age  Sex   ALB   ALP   ALT   AST   BIL    CHE  CHOL   CREA   GGT  PROT\n",
       "0   32    0  38.5  52.5   7.7  22.1   7.5   6.93  3.23  106.0  12.1  69.0\n",
       "1   32    0  38.5  70.3  18.0  24.7   3.9  11.17  4.80   74.0  15.6  76.5\n",
       "2   32    0  46.9  74.7  36.2  52.6   6.1   8.84  5.20   86.0  33.2  79.3\n",
       "3   32    0  43.2  52.0  30.6  22.6  18.9   7.33  4.74   80.0  33.8  75.7\n",
       "4   32    0  39.2  74.1  32.6  24.8   9.6   9.15  4.32   76.0  29.9  68.7"
      ]
     },
     "execution_count": 62,
     "metadata": {},
     "output_type": "execute_result"
    }
   ],
   "source": [
    "# 得到特征列\n",
    "data_x = data.drop(['Unnamed: 0', 'Category'], axis=1)\n",
    "data_x.head()"
   ]
  },
  {
   "cell_type": "code",
   "execution_count": 63,
   "metadata": {},
   "outputs": [],
   "source": [
    "x = data_x.values"
   ]
  },
  {
   "cell_type": "code",
   "execution_count": null,
   "metadata": {},
   "outputs": [],
   "source": []
  },
  {
   "cell_type": "markdown",
   "metadata": {},
   "source": [
    "# K-means"
   ]
  },
  {
   "cell_type": "markdown",
   "metadata": {},
   "source": [
    "### sklearn实现"
   ]
  },
  {
   "cell_type": "code",
   "execution_count": 64,
   "metadata": {},
   "outputs": [],
   "source": [
    "from sklearn.cluster import KMeans"
   ]
  },
  {
   "cell_type": "code",
   "execution_count": 65,
   "metadata": {},
   "outputs": [],
   "source": [
    "k_means = KMeans(n_clusters=5, random_state=39)\n",
    "k_means.fit(x)\n",
    "y_pred_skl = k_means.predict(x)"
   ]
  },
  {
   "cell_type": "code",
   "execution_count": null,
   "metadata": {},
   "outputs": [],
   "source": []
  },
  {
   "cell_type": "markdown",
   "metadata": {},
   "source": [
    "### 手动实现"
   ]
  },
  {
   "cell_type": "code",
   "execution_count": 66,
   "metadata": {},
   "outputs": [],
   "source": [
    "# 获得样本中心点(均值中心)\n",
    "def get_cen(sample, k):\n",
    "    cla_cen = []\n",
    "    for i in range(k):\n",
    "        cla_cen.append(np.mean(sample[i], axis=0))\n",
    "    cla_cen = np.array(cla_cen)\n",
    "    return cla_cen "
   ]
  },
  {
   "cell_type": "code",
   "execution_count": 67,
   "metadata": {},
   "outputs": [],
   "source": [
    "# 获得初始化中心点\n",
    "def get_init_cen(x, k, num=3):\n",
    "    ind = np.random.randint(0, x.shape[0], (k, num))  # 随机索引，其中num为每个类别样本数\n",
    "    init_sample = x[ind]  # 初始化选择样本\n",
    "    cla_cen = get_cen(init_sample, k)\n",
    "    return cla_cen"
   ]
  },
  {
   "cell_type": "code",
   "execution_count": 68,
   "metadata": {},
   "outputs": [],
   "source": [
    "# 获得样本距离中心点的距离矩阵\n",
    "def get_distance(x, cla_cen, k):\n",
    "    dis = []\n",
    "    for i in range(k):\n",
    "        dis.append(np.linalg.norm(x-cla_cen[i], ord=2, axis=1))\n",
    "    dis = np.array(dis)\n",
    "    return dis"
   ]
  },
  {
   "cell_type": "code",
   "execution_count": 69,
   "metadata": {},
   "outputs": [],
   "source": [
    "# 获得聚类标签\n",
    "def K_means(x, y, k, epoch):\n",
    "    # 初始化中心点\n",
    "    cla_cen = get_init_cen(x, k)\n",
    "    \n",
    "    # 迭代\n",
    "    for i in range(epoch):\n",
    "        # 获得样本距离中心点距离\n",
    "        dis = get_distance(x, cla_cen, k)\n",
    "        \n",
    "        # 获得各类样本\n",
    "        cla_sample = []\n",
    "        ind = np.argmin(dis, axis=0)\n",
    "        for cla in range(k):\n",
    "            cla_sample.append(x[np.where(ind==cla)])\n",
    "        \n",
    "        # 获得新的中心点\n",
    "        cla_cen = get_cen(cla_sample, k)\n",
    "        \n",
    "    # 迭代训练完成,获得x的聚类标签y_pred\n",
    "    dis = get_distance(x, cla_cen, k)\n",
    "    y_pred = np.argmin(dis, axis=0)\n",
    "    return y_pred "
   ]
  },
  {
   "cell_type": "markdown",
   "metadata": {
    "tags": []
   },
   "source": [
    "#### 考虑到k_means聚类算法易受初始化中心点的影响，事实上在实验过程中我们也发现正确率存在很大的波动\n",
    "\n",
    "#### sklearn中的k_means方法实际上是默认进行十次聚类，取其中效果最佳的方式\n",
    "\n",
    "#### 因此我们也选择进行若干次聚类，取正确率最高的作为理想聚类方式"
   ]
  },
  {
   "cell_type": "code",
   "execution_count": 70,
   "metadata": {},
   "outputs": [],
   "source": [
    "k = 5  # 类别数\n",
    "epoch = 300  # 迭代次数 "
   ]
  },
  {
   "cell_type": "code",
   "execution_count": 71,
   "metadata": {},
   "outputs": [],
   "source": [
    "# 获得聚类标签\n",
    "y_pred_self =[]\n",
    "for i in range(10):\n",
    "    y_pred_self.append(K_means(x, y, k, epoch))"
   ]
  },
  {
   "cell_type": "code",
   "execution_count": null,
   "metadata": {},
   "outputs": [],
   "source": []
  },
  {
   "cell_type": "markdown",
   "metadata": {},
   "source": [
    "# 实验结果评估"
   ]
  },
  {
   "cell_type": "markdown",
   "metadata": {},
   "source": [
    "### 获得有实际意义的聚类标签"
   ]
  },
  {
   "cell_type": "markdown",
   "metadata": {},
   "source": [
    "#### 聚类是一种无标签算法，其所得聚类标签没有实际含义，但数据集中提供的标签具有实际含义，因此两者取值可能会有所不同\n",
    "\n",
    "#### 为了便于评价聚类性能，我们希望得到聚类标签经过某种排列能够具有实际含义以便与真实标签比较\n",
    "\n",
    "#### 实现上，考虑类别较小， 我们遍历各种取值排列，选用正确率最高的排列作为我们进行评估的聚类标签"
   ]
  },
  {
   "cell_type": "code",
   "execution_count": 72,
   "metadata": {},
   "outputs": [],
   "source": [
    "from itertools import permutations"
   ]
  },
  {
   "cell_type": "code",
   "execution_count": 73,
   "metadata": {},
   "outputs": [],
   "source": [
    "# 替换类别标签\n",
    "def change_label(y_pred, ind, arr, k):\n",
    "    y_change = y_pred.copy()\n",
    "    # 遍历各类别，替换标签\n",
    "    for i in range(k):\n",
    "        y_change[ind[i]] = arr[i]\n",
    "    \n",
    "    return y_change"
   ]
  },
  {
   "cell_type": "code",
   "execution_count": 74,
   "metadata": {},
   "outputs": [],
   "source": [
    "# 获得用于评估的聚类标签\n",
    "def get_y_eval(y_pred, y, k):\n",
    "    # 获得所有排列方式\n",
    "    all_arr = list(permutations(range(k), k))\n",
    "    \n",
    "    # 获得聚类标签中各类的索引\n",
    "    y_ind = []\n",
    "    for i in range(k):\n",
    "        y_ind.append(np.where(y_pred==i))\n",
    "    \n",
    "    # 遍历获得能使正确率最高的类别排列方式\n",
    "    best_acc = 0.0\n",
    "    best_arr = 0\n",
    "    for i in range(len(all_arr)):\n",
    "        y_change = change_label(y_pred, y_ind, all_arr[i], k)  # 获取更换后的类别标签\n",
    "        acc = np.sum(y_change==y) / y.shape[0]\n",
    "        if acc>best_acc:\n",
    "            best_acc = acc\n",
    "            best_arr = i\n",
    "    \n",
    "    print('best_acc: '+str(best_acc))\n",
    "    y_eval = change_label(y_pred, y_ind, all_arr[best_arr], k)\n",
    "    return y_eval, best_acc\n"
   ]
  },
  {
   "cell_type": "code",
   "execution_count": 75,
   "metadata": {},
   "outputs": [
    {
     "name": "stdout",
     "output_type": "stream",
     "text": [
      "best_acc: 0.8276422764227642\n"
     ]
    }
   ],
   "source": [
    "y_eval_skl,_ = get_y_eval(y_pred_skl, y, k=5)"
   ]
  },
  {
   "cell_type": "markdown",
   "metadata": {},
   "source": [
    "#### 在我们手动代码实现的十次聚类中，选择正确率最高的作为聚类标签"
   ]
  },
  {
   "cell_type": "code",
   "execution_count": 76,
   "metadata": {},
   "outputs": [
    {
     "name": "stdout",
     "output_type": "stream",
     "text": [
      "best_acc: 0.7983739837398374\n",
      "best_acc: 0.4813008130081301\n",
      "best_acc: 0.4764227642276423\n",
      "best_acc: 0.7983739837398374\n",
      "best_acc: 0.8227642276422764\n",
      "best_acc: 0.4682926829268293\n",
      "best_acc: 0.7983739837398374\n",
      "best_acc: 0.7983739837398374\n",
      "best_acc: 0.4764227642276423\n",
      "best_acc: 0.8227642276422764\n",
      "best_acc: 0.8227642276422764\n"
     ]
    }
   ],
   "source": [
    "ind = 0\n",
    "best_acc = 0\n",
    "for i in range(10):\n",
    "    y_eval_self, acc = get_y_eval(y_pred_self[i], y, k=5)\n",
    "    if acc>best_acc:\n",
    "        best_acc = acc\n",
    "        ind = i\n",
    "y_eval_self,_ = get_y_eval(y_pred_self[ind], y, k=5)"
   ]
  },
  {
   "cell_type": "markdown",
   "metadata": {},
   "source": [
    "### 获得Micro-F1和Macro-F1"
   ]
  },
  {
   "cell_type": "markdown",
   "metadata": {},
   "source": [
    "#### 我们在求取Macro-F1的实验过程中出现问题：\n",
    "\n",
    "#### 若聚类标签恰好使得某类的精确率Precison和召回率Recall都为0，即TP为0时，则F1公式的分母为0，导致F1值为nan。\n",
    "\n",
    "#### F1分数被定义为精确率和召回率的调和平均数，因此我们认为对于这种情况，应当设F1=0或为极小值"
   ]
  },
  {
   "cell_type": "code",
   "execution_count": 77,
   "metadata": {},
   "outputs": [],
   "source": [
    "# 得到各类的precison\n",
    "def get_precison(y_eval, y, k):\n",
    "    class_precison = []\n",
    "    for i in range(k):\n",
    "        TP = np.sum((y_eval==i)&(y==i))  # 预测为正，实际也为正\n",
    "        FP = np.sum((y_eval==i)&(y!=i))  # 预测为正，实际为负\n",
    "        cla_pre = TP/(TP+FP)\n",
    "        class_precison.append(cla_pre)\n",
    "    class_precison = np.array(class_precison)\n",
    "    return class_precison"
   ]
  },
  {
   "cell_type": "code",
   "execution_count": 78,
   "metadata": {},
   "outputs": [],
   "source": [
    "# 得到各类的recall\n",
    "def get_recall(y_eval, y, k):\n",
    "    class_recall = []\n",
    "    for i in range(k):\n",
    "        TP = np.sum((y_eval==i)&(y==i))  # 预测为正，实际也为正\n",
    "        FN = np.sum((y_eval!=i)&(y==i))  # 预测为负，实际为正\n",
    "        cla_rec = TP/(TP+FN)\n",
    "        class_recall.append(cla_rec)\n",
    "    class_recall = np.array(class_recall)\n",
    "    return class_recall"
   ]
  },
  {
   "cell_type": "code",
   "execution_count": 79,
   "metadata": {},
   "outputs": [],
   "source": [
    "# 获得Micro-F1\n",
    "def get_Micro_F1(y_eval, y, k=5):\n",
    "    # 获得各类的精确率和召回率\n",
    "    Precison = get_precison(y_eval, y, k) \n",
    "    Recall = get_recall(y_eval, y, k)\n",
    "    \n",
    "    # 获得总的精确率和召回率\n",
    "    Precison = np.sum(Precison) / k\n",
    "    Recall = np.sum(Recall) / k\n",
    "    \n",
    "    # 获得F1分数\n",
    "    Micro_F1 = (2*Precison* Recall)/(Precison+Recall)\n",
    "    \n",
    "    return Micro_F1"
   ]
  },
  {
   "cell_type": "code",
   "execution_count": 80,
   "metadata": {},
   "outputs": [],
   "source": [
    "# 获得Macro-F1\n",
    "def get_Macro_F1(y_eval, y, k=5):\n",
    "    # 获得各类的精确率和召回率\n",
    "    Precison = get_precison(y_eval, y, k) \n",
    "    Recall = get_recall(y_eval, y, k)\n",
    "\n",
    "    # 获得各类F1分数\n",
    "    Macro_F1 = (2*Precison* Recall)/(Precison+Recall) \n",
    "    # 处理nan值 \n",
    "    Macro_F1 = np.nan_to_num(Macro_F1)\n",
    "    # 获得平均F1分数\n",
    "    Macro_F1 = np.sum(Macro_F1) / k\n",
    "    \n",
    "    return Macro_F1"
   ]
  },
  {
   "cell_type": "code",
   "execution_count": 83,
   "metadata": {},
   "outputs": [
    {
     "name": "stdout",
     "output_type": "stream",
     "text": [
      "Micro_F1: 0.39497281179102967\n",
      "Macro_F1: 0.36719536049569257\n"
     ]
    },
    {
     "name": "stderr",
     "output_type": "stream",
     "text": [
      "<ipython-input-80-d635eef43985>:8: RuntimeWarning: invalid value encountered in true_divide\n",
      "  Macro_F1 = (2*Precison* Recall)/(Precison+Recall)\n"
     ]
    }
   ],
   "source": [
    "Micro_F1 = get_Micro_F1(y_eval_skl, y, k=5)\n",
    "Macro_F1 = get_Macro_F1(y_eval_skl, y, k=5)\n",
    "print('Micro_F1: '+str(Micro_F1))\n",
    "print('Macro_F1: '+str(Macro_F1))"
   ]
  },
  {
   "cell_type": "code",
   "execution_count": 84,
   "metadata": {},
   "outputs": [
    {
     "name": "stdout",
     "output_type": "stream",
     "text": [
      "Micro_F1: 0.3938601470691342\n",
      "Macro_F1: 0.365015000197371\n"
     ]
    },
    {
     "name": "stderr",
     "output_type": "stream",
     "text": [
      "<ipython-input-80-d635eef43985>:8: RuntimeWarning: invalid value encountered in true_divide\n",
      "  Macro_F1 = (2*Precison* Recall)/(Precison+Recall)\n"
     ]
    }
   ],
   "source": [
    "Micro_F1 = get_Micro_F1(y_eval_self, y, k=5)\n",
    "Macro_F1 = get_Macro_F1(y_eval_self, y, k=5)\n",
    "print('Micro_F1: '+str(Micro_F1))\n",
    "print('Macro_F1: '+str(Macro_F1))"
   ]
  },
  {
   "cell_type": "markdown",
   "metadata": {},
   "source": [
    "# 实验结果分析"
   ]
  },
  {
   "cell_type": "markdown",
   "metadata": {},
   "source": [
    "### 我们采用两种方式实现K-means聚类: sklearn库提供的KMeans方法和我们手动实现的方法，\n",
    "\n",
    "### 分别取得了82.76%, 82.28%的正确率，证明我们的聚类能很好的划分类别\n",
    "\n",
    "### 另外，两种方法取得的Micro_F1和Macro_F1值介于36%-40%之间\n",
    "\n",
    "### 证明我们的聚类对样本量较小的类别的分类效果并不理想，模型缺乏对小样本类别较好的划分能力"
   ]
  },
  {
   "cell_type": "code",
   "execution_count": null,
   "metadata": {},
   "outputs": [],
   "source": []
  },
  {
   "cell_type": "code",
   "execution_count": null,
   "metadata": {},
   "outputs": [],
   "source": []
  }
 ],
 "metadata": {
  "kernelspec": {
   "display_name": "Python 3 (ipykernel)",
   "language": "python",
   "name": "python3"
  },
  "language_info": {
   "codemirror_mode": {
    "name": "ipython",
    "version": 3
   },
   "file_extension": ".py",
   "mimetype": "text/x-python",
   "name": "python",
   "nbconvert_exporter": "python",
   "pygments_lexer": "ipython3",
   "version": "3.8.12"
  }
 },
 "nbformat": 4,
 "nbformat_minor": 4
}
